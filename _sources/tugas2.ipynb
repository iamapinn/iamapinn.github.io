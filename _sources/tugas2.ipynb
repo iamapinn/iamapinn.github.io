{
  "nbformat": 4,
  "nbformat_minor": 0,
  "metadata": {
    "colab": {
      "provenance": []
    },
    "kernelspec": {
      "name": "python3",
      "display_name": "Python 3"
    },
    "language_info": {
      "name": "python"
    }
  },
  "cells": [
    {
      "cell_type": "markdown",
      "source": [
        "# Tugas 1 Dissimilarity - Menghitung Jarak"
      ],
      "metadata": {
        "id": "gc1rGq1fU-PV"
      }
    },
    {
      "cell_type": "markdown",
      "source": [
        "<h2> Dissimilarity - Mengitung Jarak</h2>\n",
        "\n",
        "1.   Memahami tipe data\n",
        "2.   Tentukan jarak dari data yang dibuat, data mengandung 4 tipe data:\n",
        "\n",
        "\n",
        "        *   Numerik\n",
        "        *   Kategorical / Nominal\n",
        "        *   Binary Asimetris / Simestris\n",
        "        *   Ordinal"
      ],
      "metadata": {
        "id": "6EAQi0JvVMj5"
      }
    },
    {
      "cell_type": "markdown",
      "source": [
        "## 1. Tipe data"
      ],
      "metadata": {
        "id": "_3o1DYEpprMG"
      }
    },
    {
      "cell_type": "markdown",
      "source": [
        "<h2>1.1 Atribut Nominal / Kategorical</h2>\n"
      ],
      "metadata": {
        "id": "_Dd0nx4YvXRE"
      }
    },
    {
      "cell_type": "markdown",
      "source": [
        "<p>Nominal berarti \"berkaitan dengan nama.\" Nilai atribut nominal adalah simbol atau nama benda. Setiap nilai mewakili beberapa jenis kategori, kode, atau status, sehingga atribut nominal juga disebut sebagai kategori. Nilai tidak memiliki urutan yang berarti. Dalam ilmu komputer, nilai juga dikenal sebagai pencacahan.</p>"
      ],
      "metadata": {
        "id": "UB-YxnJoviIf"
      }
    },
    {
      "cell_type": "markdown",
      "source": [
        "<h2>1.2 Atribut Binary (Biner)</h2>"
      ],
      "metadata": {
        "id": "CNDHsevBvfhK"
      }
    },
    {
      "cell_type": "markdown",
      "source": [
        "<p>Atribut biner adalah atribut nominal dengan hanya dua kategori atau status 0 atau 1, di mana 0 biasanya berarti bahwa atribut tersebut tidak ada, dan 1 berarti ada. Atribut biner disebut sebagai Boolean jika kedua status sesuai dengan benar dan salah.</p>"
      ],
      "metadata": {
        "id": "LBbETjLmwBLU"
      }
    },
    {
      "cell_type": "markdown",
      "source": [
        "<h2>1.3 Ordinal</h2>"
      ],
      "metadata": {
        "id": "bHHw3kYiwuNP"
      }
    },
    {
      "cell_type": "markdown",
      "source": [
        "<p>Atribut ordinal adalah atribut dengan kemungkinan nilai yang memiliki urutan atau peringkat yang bermakna di antara mereka, tetapi besarnya antara nilai-nilai yang berurutan tidak diketahui.</p>"
      ],
      "metadata": {
        "id": "SS-Piijywy5H"
      }
    },
    {
      "cell_type": "markdown",
      "source": [
        "<h2>1.4 Numeric</h2>"
      ],
      "metadata": {
        "id": "fOEhSvXfxaRS"
      }
    },
    {
      "cell_type": "markdown",
      "source": [
        "<p>Atribut numerik bersifat kuantitatif; yaitu, itu adalah kuantitas yang dapat diukur, direpresentasikan dalam bilangan bulat atau nilai nyata. Atribut numerik dapat berskala interval atau berskala rasio.</p>"
      ],
      "metadata": {
        "id": "Ldd5NKpuxc5-"
      }
    },
    {
      "cell_type": "markdown",
      "source": [
        "## 2. Menetukan jarak dari data"
      ],
      "metadata": {
        "id": "EGbW4oURpjdc"
      }
    },
    {
      "cell_type": "markdown",
      "source": [
        "<h2>Install Library</h2>"
      ],
      "metadata": {
        "id": "MJxq-Y4aWW6f"
      }
    },
    {
      "cell_type": "code",
      "execution_count": 111,
      "metadata": {
        "id": "Z7HSMOxUp9P5"
      },
      "outputs": [],
      "source": [
        "%%capture\n",
        "pip install --upgrade google-api-python-client"
      ]
    },
    {
      "cell_type": "code",
      "source": [
        "%%capture\n",
        "pip install pandas"
      ],
      "metadata": {
        "id": "p_2-KdjJOKai"
      },
      "execution_count": 112,
      "outputs": []
    },
    {
      "cell_type": "code",
      "source": [
        "%%capture\n",
        "pip install seaborn\n"
      ],
      "metadata": {
        "id": "xCsuQTcEOO0v"
      },
      "execution_count": 113,
      "outputs": []
    },
    {
      "cell_type": "markdown",
      "source": [
        "<h2>Import Module</h2>"
      ],
      "metadata": {
        "id": "neiQCx6fcIfE"
      }
    },
    {
      "cell_type": "code",
      "source": [
        "from googleapiclient.discovery import build\n",
        "import pandas as pd\n",
        "import seaborn as sns\n",
        "import math\n",
        "import numpy as np"
      ],
      "metadata": {
        "id": "GtaRajmBOYWH"
      },
      "execution_count": 114,
      "outputs": []
    },
    {
      "cell_type": "markdown",
      "source": [
        "<h2>Ambil Dataset</h2>"
      ],
      "metadata": {
        "id": "MWIyh21F6DTU"
      }
    },
    {
      "cell_type": "code",
      "source": [
        "df = pd.read_csv(\"https://raw.githubusercontent.com/iamapinn/iamapinn.github.io/main/data-mining-dataset.csv\")"
      ],
      "metadata": {
        "id": "eK00L4-76KeB"
      },
      "execution_count": 129,
      "outputs": []
    },
    {
      "cell_type": "code",
      "source": [
        "df.head()"
      ],
      "metadata": {
        "colab": {
          "base_uri": "https://localhost:8080/",
          "height": 206
        },
        "id": "r_0lUrSu6P3F",
        "outputId": "650eda5f-a33d-453d-f0f4-bc43d852129a"
      },
      "execution_count": 130,
      "outputs": [
        {
          "output_type": "execute_result",
          "data": {
            "text/plain": [
              "   Nama Jenis Kelamin     Gaji Pendidikan         Status          Hobby\n",
              "0  Andi     Laki-laki  7000000    Sarjana        Menikah   Bermain bola\n",
              "1  Budi     Laki-laki  5000000        SMA  Belum Menikah  Bermain musik\n",
              "2  Cici     Perempuan  4000000         D3        Menikah   Bermain bola\n",
              "3  Didi     Laki-laki  8000000   Magister  Belum Menikah   Bermain film\n",
              "4   Eni     Perempuan  6000000    Sarjana        Menikah   Bermain film"
            ],
            "text/html": [
              "\n",
              "  <div id=\"df-57d54430-3a2e-442d-9cbd-bac9d33d53b6\">\n",
              "    <div class=\"colab-df-container\">\n",
              "      <div>\n",
              "<style scoped>\n",
              "    .dataframe tbody tr th:only-of-type {\n",
              "        vertical-align: middle;\n",
              "    }\n",
              "\n",
              "    .dataframe tbody tr th {\n",
              "        vertical-align: top;\n",
              "    }\n",
              "\n",
              "    .dataframe thead th {\n",
              "        text-align: right;\n",
              "    }\n",
              "</style>\n",
              "<table border=\"1\" class=\"dataframe\">\n",
              "  <thead>\n",
              "    <tr style=\"text-align: right;\">\n",
              "      <th></th>\n",
              "      <th>Nama</th>\n",
              "      <th>Jenis Kelamin</th>\n",
              "      <th>Gaji</th>\n",
              "      <th>Pendidikan</th>\n",
              "      <th>Status</th>\n",
              "      <th>Hobby</th>\n",
              "    </tr>\n",
              "  </thead>\n",
              "  <tbody>\n",
              "    <tr>\n",
              "      <th>0</th>\n",
              "      <td>Andi</td>\n",
              "      <td>Laki-laki</td>\n",
              "      <td>7000000</td>\n",
              "      <td>Sarjana</td>\n",
              "      <td>Menikah</td>\n",
              "      <td>Bermain bola</td>\n",
              "    </tr>\n",
              "    <tr>\n",
              "      <th>1</th>\n",
              "      <td>Budi</td>\n",
              "      <td>Laki-laki</td>\n",
              "      <td>5000000</td>\n",
              "      <td>SMA</td>\n",
              "      <td>Belum Menikah</td>\n",
              "      <td>Bermain musik</td>\n",
              "    </tr>\n",
              "    <tr>\n",
              "      <th>2</th>\n",
              "      <td>Cici</td>\n",
              "      <td>Perempuan</td>\n",
              "      <td>4000000</td>\n",
              "      <td>D3</td>\n",
              "      <td>Menikah</td>\n",
              "      <td>Bermain bola</td>\n",
              "    </tr>\n",
              "    <tr>\n",
              "      <th>3</th>\n",
              "      <td>Didi</td>\n",
              "      <td>Laki-laki</td>\n",
              "      <td>8000000</td>\n",
              "      <td>Magister</td>\n",
              "      <td>Belum Menikah</td>\n",
              "      <td>Bermain film</td>\n",
              "    </tr>\n",
              "    <tr>\n",
              "      <th>4</th>\n",
              "      <td>Eni</td>\n",
              "      <td>Perempuan</td>\n",
              "      <td>6000000</td>\n",
              "      <td>Sarjana</td>\n",
              "      <td>Menikah</td>\n",
              "      <td>Bermain film</td>\n",
              "    </tr>\n",
              "  </tbody>\n",
              "</table>\n",
              "</div>\n",
              "      <button class=\"colab-df-convert\" onclick=\"convertToInteractive('df-57d54430-3a2e-442d-9cbd-bac9d33d53b6')\"\n",
              "              title=\"Convert this dataframe to an interactive table.\"\n",
              "              style=\"display:none;\">\n",
              "        \n",
              "  <svg xmlns=\"http://www.w3.org/2000/svg\" height=\"24px\"viewBox=\"0 0 24 24\"\n",
              "       width=\"24px\">\n",
              "    <path d=\"M0 0h24v24H0V0z\" fill=\"none\"/>\n",
              "    <path d=\"M18.56 5.44l.94 2.06.94-2.06 2.06-.94-2.06-.94-.94-2.06-.94 2.06-2.06.94zm-11 1L8.5 8.5l.94-2.06 2.06-.94-2.06-.94L8.5 2.5l-.94 2.06-2.06.94zm10 10l.94 2.06.94-2.06 2.06-.94-2.06-.94-.94-2.06-.94 2.06-2.06.94z\"/><path d=\"M17.41 7.96l-1.37-1.37c-.4-.4-.92-.59-1.43-.59-.52 0-1.04.2-1.43.59L10.3 9.45l-7.72 7.72c-.78.78-.78 2.05 0 2.83L4 21.41c.39.39.9.59 1.41.59.51 0 1.02-.2 1.41-.59l7.78-7.78 2.81-2.81c.8-.78.8-2.07 0-2.86zM5.41 20L4 18.59l7.72-7.72 1.47 1.35L5.41 20z\"/>\n",
              "  </svg>\n",
              "      </button>\n",
              "      \n",
              "  <style>\n",
              "    .colab-df-container {\n",
              "      display:flex;\n",
              "      flex-wrap:wrap;\n",
              "      gap: 12px;\n",
              "    }\n",
              "\n",
              "    .colab-df-convert {\n",
              "      background-color: #E8F0FE;\n",
              "      border: none;\n",
              "      border-radius: 50%;\n",
              "      cursor: pointer;\n",
              "      display: none;\n",
              "      fill: #1967D2;\n",
              "      height: 32px;\n",
              "      padding: 0 0 0 0;\n",
              "      width: 32px;\n",
              "    }\n",
              "\n",
              "    .colab-df-convert:hover {\n",
              "      background-color: #E2EBFA;\n",
              "      box-shadow: 0px 1px 2px rgba(60, 64, 67, 0.3), 0px 1px 3px 1px rgba(60, 64, 67, 0.15);\n",
              "      fill: #174EA6;\n",
              "    }\n",
              "\n",
              "    [theme=dark] .colab-df-convert {\n",
              "      background-color: #3B4455;\n",
              "      fill: #D2E3FC;\n",
              "    }\n",
              "\n",
              "    [theme=dark] .colab-df-convert:hover {\n",
              "      background-color: #434B5C;\n",
              "      box-shadow: 0px 1px 3px 1px rgba(0, 0, 0, 0.15);\n",
              "      filter: drop-shadow(0px 1px 2px rgba(0, 0, 0, 0.3));\n",
              "      fill: #FFFFFF;\n",
              "    }\n",
              "  </style>\n",
              "\n",
              "      <script>\n",
              "        const buttonEl =\n",
              "          document.querySelector('#df-57d54430-3a2e-442d-9cbd-bac9d33d53b6 button.colab-df-convert');\n",
              "        buttonEl.style.display =\n",
              "          google.colab.kernel.accessAllowed ? 'block' : 'none';\n",
              "\n",
              "        async function convertToInteractive(key) {\n",
              "          const element = document.querySelector('#df-57d54430-3a2e-442d-9cbd-bac9d33d53b6');\n",
              "          const dataTable =\n",
              "            await google.colab.kernel.invokeFunction('convertToInteractive',\n",
              "                                                     [key], {});\n",
              "          if (!dataTable) return;\n",
              "\n",
              "          const docLinkHtml = 'Like what you see? Visit the ' +\n",
              "            '<a target=\"_blank\" href=https://colab.research.google.com/notebooks/data_table.ipynb>data table notebook</a>'\n",
              "            + ' to learn more about interactive tables.';\n",
              "          element.innerHTML = '';\n",
              "          dataTable['output_type'] = 'display_data';\n",
              "          await google.colab.output.renderOutput(dataTable, element);\n",
              "          const docLink = document.createElement('div');\n",
              "          docLink.innerHTML = docLinkHtml;\n",
              "          element.appendChild(docLink);\n",
              "        }\n",
              "      </script>\n",
              "    </div>\n",
              "  </div>\n",
              "  "
            ]
          },
          "metadata": {},
          "execution_count": 130
        }
      ]
    },
    {
      "cell_type": "markdown",
      "source": [
        "<h2>1. Menghitung Jarak Dissimilarity Atribut Numeric</h2>"
      ],
      "metadata": {
        "id": "ZpvLM-hjMPzO"
      }
    },
    {
      "cell_type": "markdown",
      "source": [
        "Menghitung jarak menggunakan metode Euclidean Distance"
      ],
      "metadata": {
        "id": "-hwTDlT5NzHL"
      }
    },
    {
      "cell_type": "markdown",
      "source": [
        "*   Ambil Sampel pada Gaji\n"
      ],
      "metadata": {
        "id": "OD0qGSCWN6Wc"
      }
    },
    {
      "cell_type": "code",
      "source": [
        "data_Gaji = df[[\"Gaji\"]]\n",
        "\n",
        "data_Gaji"
      ],
      "metadata": {
        "colab": {
          "base_uri": "https://localhost:8080/",
          "height": 206
        },
        "id": "u8fDqGZHN9jc",
        "outputId": "1bd95307-b1ff-491d-fdb1-ddacc6d7f73b"
      },
      "execution_count": 131,
      "outputs": [
        {
          "output_type": "execute_result",
          "data": {
            "text/plain": [
              "      Gaji\n",
              "0  7000000\n",
              "1  5000000\n",
              "2  4000000\n",
              "3  8000000\n",
              "4  6000000"
            ],
            "text/html": [
              "\n",
              "  <div id=\"df-dca30516-5038-4be6-9bfb-2a13e26a0b84\">\n",
              "    <div class=\"colab-df-container\">\n",
              "      <div>\n",
              "<style scoped>\n",
              "    .dataframe tbody tr th:only-of-type {\n",
              "        vertical-align: middle;\n",
              "    }\n",
              "\n",
              "    .dataframe tbody tr th {\n",
              "        vertical-align: top;\n",
              "    }\n",
              "\n",
              "    .dataframe thead th {\n",
              "        text-align: right;\n",
              "    }\n",
              "</style>\n",
              "<table border=\"1\" class=\"dataframe\">\n",
              "  <thead>\n",
              "    <tr style=\"text-align: right;\">\n",
              "      <th></th>\n",
              "      <th>Gaji</th>\n",
              "    </tr>\n",
              "  </thead>\n",
              "  <tbody>\n",
              "    <tr>\n",
              "      <th>0</th>\n",
              "      <td>7000000</td>\n",
              "    </tr>\n",
              "    <tr>\n",
              "      <th>1</th>\n",
              "      <td>5000000</td>\n",
              "    </tr>\n",
              "    <tr>\n",
              "      <th>2</th>\n",
              "      <td>4000000</td>\n",
              "    </tr>\n",
              "    <tr>\n",
              "      <th>3</th>\n",
              "      <td>8000000</td>\n",
              "    </tr>\n",
              "    <tr>\n",
              "      <th>4</th>\n",
              "      <td>6000000</td>\n",
              "    </tr>\n",
              "  </tbody>\n",
              "</table>\n",
              "</div>\n",
              "      <button class=\"colab-df-convert\" onclick=\"convertToInteractive('df-dca30516-5038-4be6-9bfb-2a13e26a0b84')\"\n",
              "              title=\"Convert this dataframe to an interactive table.\"\n",
              "              style=\"display:none;\">\n",
              "        \n",
              "  <svg xmlns=\"http://www.w3.org/2000/svg\" height=\"24px\"viewBox=\"0 0 24 24\"\n",
              "       width=\"24px\">\n",
              "    <path d=\"M0 0h24v24H0V0z\" fill=\"none\"/>\n",
              "    <path d=\"M18.56 5.44l.94 2.06.94-2.06 2.06-.94-2.06-.94-.94-2.06-.94 2.06-2.06.94zm-11 1L8.5 8.5l.94-2.06 2.06-.94-2.06-.94L8.5 2.5l-.94 2.06-2.06.94zm10 10l.94 2.06.94-2.06 2.06-.94-2.06-.94-.94-2.06-.94 2.06-2.06.94z\"/><path d=\"M17.41 7.96l-1.37-1.37c-.4-.4-.92-.59-1.43-.59-.52 0-1.04.2-1.43.59L10.3 9.45l-7.72 7.72c-.78.78-.78 2.05 0 2.83L4 21.41c.39.39.9.59 1.41.59.51 0 1.02-.2 1.41-.59l7.78-7.78 2.81-2.81c.8-.78.8-2.07 0-2.86zM5.41 20L4 18.59l7.72-7.72 1.47 1.35L5.41 20z\"/>\n",
              "  </svg>\n",
              "      </button>\n",
              "      \n",
              "  <style>\n",
              "    .colab-df-container {\n",
              "      display:flex;\n",
              "      flex-wrap:wrap;\n",
              "      gap: 12px;\n",
              "    }\n",
              "\n",
              "    .colab-df-convert {\n",
              "      background-color: #E8F0FE;\n",
              "      border: none;\n",
              "      border-radius: 50%;\n",
              "      cursor: pointer;\n",
              "      display: none;\n",
              "      fill: #1967D2;\n",
              "      height: 32px;\n",
              "      padding: 0 0 0 0;\n",
              "      width: 32px;\n",
              "    }\n",
              "\n",
              "    .colab-df-convert:hover {\n",
              "      background-color: #E2EBFA;\n",
              "      box-shadow: 0px 1px 2px rgba(60, 64, 67, 0.3), 0px 1px 3px 1px rgba(60, 64, 67, 0.15);\n",
              "      fill: #174EA6;\n",
              "    }\n",
              "\n",
              "    [theme=dark] .colab-df-convert {\n",
              "      background-color: #3B4455;\n",
              "      fill: #D2E3FC;\n",
              "    }\n",
              "\n",
              "    [theme=dark] .colab-df-convert:hover {\n",
              "      background-color: #434B5C;\n",
              "      box-shadow: 0px 1px 3px 1px rgba(0, 0, 0, 0.15);\n",
              "      filter: drop-shadow(0px 1px 2px rgba(0, 0, 0, 0.3));\n",
              "      fill: #FFFFFF;\n",
              "    }\n",
              "  </style>\n",
              "\n",
              "      <script>\n",
              "        const buttonEl =\n",
              "          document.querySelector('#df-dca30516-5038-4be6-9bfb-2a13e26a0b84 button.colab-df-convert');\n",
              "        buttonEl.style.display =\n",
              "          google.colab.kernel.accessAllowed ? 'block' : 'none';\n",
              "\n",
              "        async function convertToInteractive(key) {\n",
              "          const element = document.querySelector('#df-dca30516-5038-4be6-9bfb-2a13e26a0b84');\n",
              "          const dataTable =\n",
              "            await google.colab.kernel.invokeFunction('convertToInteractive',\n",
              "                                                     [key], {});\n",
              "          if (!dataTable) return;\n",
              "\n",
              "          const docLinkHtml = 'Like what you see? Visit the ' +\n",
              "            '<a target=\"_blank\" href=https://colab.research.google.com/notebooks/data_table.ipynb>data table notebook</a>'\n",
              "            + ' to learn more about interactive tables.';\n",
              "          element.innerHTML = '';\n",
              "          dataTable['output_type'] = 'display_data';\n",
              "          await google.colab.output.renderOutput(dataTable, element);\n",
              "          const docLink = document.createElement('div');\n",
              "          docLink.innerHTML = docLinkHtml;\n",
              "          element.appendChild(docLink);\n",
              "        }\n",
              "      </script>\n",
              "    </div>\n",
              "  </div>\n",
              "  "
            ]
          },
          "metadata": {},
          "execution_count": 131
        }
      ]
    },
    {
      "cell_type": "markdown",
      "source": [
        "*   Menghitung Jarak menggunakan metode Euclidean Distance"
      ],
      "metadata": {
        "id": "w_LW7NxCODik"
      }
    },
    {
      "cell_type": "markdown",
      "source": [
        "Euclidean Distance dapat digunakan untuk menghitung  jarak euclidean antara dua data dengan menghitung akar kuadrat dari selisih kuadrat antara nilai atribut Gaji.\n",
        "\n",
        "\n",
        "Rumus Euclidean Distance: jarak(i,j) = sqrt((Gaji_i - Gaji_j)^2)\n",
        "\n",
        "\n",
        "Keterangan:\n",
        "\n",
        "* jarak(i,j) : Jarak dissimilarity antara Gaji responden i dan j\n",
        "* Gaji_i : Nilai Gaji responden i\n",
        "* Gaji_j : Nilai Gaji responden j\n",
        "\n",
        "Rumus tersebut dapat dijelaskan sebagai berikut:\n",
        "\n",
        "1. Ambil nilai Gaji responden i dan j\n",
        "2. Hitung selisih antara nilai Gaji responden i dan j\n",
        "3. Kuadratkan selisih tersebut\n",
        "4. Hitung akar kuadrat dari hasil kuadrat pada langkah 3\n",
        "5. Hasil pada langkah 4 merupakan nilai jarak dissimilarity antara Gaji responden i dan j"
      ],
      "metadata": {
        "id": "TnvC-FxHOfL4"
      }
    },
    {
      "cell_type": "code",
      "source": [
        "# Baca data dari Tabel\n",
        "data = df.head()\n",
        "\n",
        "# Ambil data Gaji dari dua data yang ingin dihitung jarak dissimilaritynya\n",
        "gaji1 = data.loc[data['Nama'] == 'Andi']['Gaji'].iloc[0]\n",
        "gaji2 = data.loc[data['Nama'] == 'Budi']['Gaji'].iloc[0]\n",
        "\n",
        "# Hitung jarak dissimilarity Gaji menggunakan Euclidean Distance\n",
        "jarak = math.sqrt((gaji1 - gaji2)**2)\n",
        "\n",
        "# Tampilkan hasil perhitungan\n",
        "print('Jarak dissimilarity Gaji antara Andi dan Budi adalah:', jarak)\n"
      ],
      "metadata": {
        "colab": {
          "base_uri": "https://localhost:8080/"
        },
        "id": "HVX0H4izPD06",
        "outputId": "babdba00-bba8-4dfc-ec99-c25882d33d55"
      },
      "execution_count": 150,
      "outputs": [
        {
          "output_type": "stream",
          "name": "stdout",
          "text": [
            "Jarak dissimilarity Gaji antara Andi dan Budi adalah: 2000000.0\n"
          ]
        }
      ]
    },
    {
      "cell_type": "code",
      "source": [
        "# Baca data dari table\n",
        "data = df.head()\n",
        "\n",
        "# Buat kolom kosong untuk menyimpan jarak antara Gaji setiap pasangan responden\n",
        "kolom_jarak = []\n",
        "for i in range(len(data)):\n",
        "    for j in range(i+1, len(data)):\n",
        "        gaji1 = data.iloc[i]['Gaji']\n",
        "        gaji2 = data.iloc[j]['Gaji']\n",
        "        jarak = math.sqrt((gaji1 - gaji2)**2)\n",
        "        kolom_jarak.append(jarak)\n",
        "\n",
        "# Buat tabel baru untuk menyimpan hasil perhitungan\n",
        "jumlah_pasangan_responden = len(data) * (len(data)-1) // 2\n",
        "kolom_responden1 = []\n",
        "kolom_responden2 = []\n",
        "for i in range(len(data)):\n",
        "    for j in range(i+1, len(data)):\n",
        "        kolom_responden1.append(data.iloc[i]['Nama'])\n",
        "        kolom_responden2.append(data.iloc[j]['Nama'])\n",
        "        \n",
        "df_jarak = pd.DataFrame({'Responden 1': kolom_responden1,\n",
        "                         'Responden 2': kolom_responden2,\n",
        "                         'Jarak Gaji': kolom_jarak})\n",
        "\n",
        "# Tampilkan hasil perhitungan\n",
        "print(df_jarak)"
      ],
      "metadata": {
        "colab": {
          "base_uri": "https://localhost:8080/"
        },
        "id": "uWYppwfyQL8s",
        "outputId": "d0847d1d-534c-4f9d-848c-29e6450d1ba9"
      },
      "execution_count": 149,
      "outputs": [
        {
          "output_type": "stream",
          "name": "stdout",
          "text": [
            "  Responden 1 Responden 2  Jarak Gaji\n",
            "0        Andi        Budi   2000000.0\n",
            "1        Andi        Cici   3000000.0\n",
            "2        Andi        Didi   1000000.0\n",
            "3        Andi         Eni   1000000.0\n",
            "4        Budi        Cici   1000000.0\n",
            "5        Budi        Didi   3000000.0\n",
            "6        Budi         Eni   1000000.0\n",
            "7        Cici        Didi   4000000.0\n",
            "8        Cici         Eni   2000000.0\n",
            "9        Didi         Eni   2000000.0\n"
          ]
        }
      ]
    },
    {
      "cell_type": "markdown",
      "source": [
        "<h2>2. Menghitung Jarak Dissimilarity Atribut Nominal / Kategorical</h2>"
      ],
      "metadata": {
        "id": "UU1Zj345890s"
      }
    },
    {
      "cell_type": "markdown",
      "source": [
        "Menghitung jarak menggunakan metode Jaccard Distance atau Hamming Distance"
      ],
      "metadata": {
        "id": "lvKdJm1V9Uz-"
      }
    },
    {
      "cell_type": "markdown",
      "source": [
        "*   Ambil Sampel pada Hobby\n"
      ],
      "metadata": {
        "id": "JtzvKDOS9glI"
      }
    },
    {
      "cell_type": "code",
      "source": [
        "data_hobby = df[[\"Hobby\"]]\n",
        "\n",
        "data_hobby"
      ],
      "metadata": {
        "colab": {
          "base_uri": "https://localhost:8080/",
          "height": 206
        },
        "id": "cOUr8dI3_llE",
        "outputId": "8e65ad3d-02e0-4963-f055-d6066ee4e825"
      },
      "execution_count": 137,
      "outputs": [
        {
          "output_type": "execute_result",
          "data": {
            "text/plain": [
              "           Hobby\n",
              "0   Bermain bola\n",
              "1  Bermain musik\n",
              "2   Bermain bola\n",
              "3   Bermain film\n",
              "4   Bermain film"
            ],
            "text/html": [
              "\n",
              "  <div id=\"df-9a411daf-ff34-416f-97c1-5044f717aa0e\">\n",
              "    <div class=\"colab-df-container\">\n",
              "      <div>\n",
              "<style scoped>\n",
              "    .dataframe tbody tr th:only-of-type {\n",
              "        vertical-align: middle;\n",
              "    }\n",
              "\n",
              "    .dataframe tbody tr th {\n",
              "        vertical-align: top;\n",
              "    }\n",
              "\n",
              "    .dataframe thead th {\n",
              "        text-align: right;\n",
              "    }\n",
              "</style>\n",
              "<table border=\"1\" class=\"dataframe\">\n",
              "  <thead>\n",
              "    <tr style=\"text-align: right;\">\n",
              "      <th></th>\n",
              "      <th>Hobby</th>\n",
              "    </tr>\n",
              "  </thead>\n",
              "  <tbody>\n",
              "    <tr>\n",
              "      <th>0</th>\n",
              "      <td>Bermain bola</td>\n",
              "    </tr>\n",
              "    <tr>\n",
              "      <th>1</th>\n",
              "      <td>Bermain musik</td>\n",
              "    </tr>\n",
              "    <tr>\n",
              "      <th>2</th>\n",
              "      <td>Bermain bola</td>\n",
              "    </tr>\n",
              "    <tr>\n",
              "      <th>3</th>\n",
              "      <td>Bermain film</td>\n",
              "    </tr>\n",
              "    <tr>\n",
              "      <th>4</th>\n",
              "      <td>Bermain film</td>\n",
              "    </tr>\n",
              "  </tbody>\n",
              "</table>\n",
              "</div>\n",
              "      <button class=\"colab-df-convert\" onclick=\"convertToInteractive('df-9a411daf-ff34-416f-97c1-5044f717aa0e')\"\n",
              "              title=\"Convert this dataframe to an interactive table.\"\n",
              "              style=\"display:none;\">\n",
              "        \n",
              "  <svg xmlns=\"http://www.w3.org/2000/svg\" height=\"24px\"viewBox=\"0 0 24 24\"\n",
              "       width=\"24px\">\n",
              "    <path d=\"M0 0h24v24H0V0z\" fill=\"none\"/>\n",
              "    <path d=\"M18.56 5.44l.94 2.06.94-2.06 2.06-.94-2.06-.94-.94-2.06-.94 2.06-2.06.94zm-11 1L8.5 8.5l.94-2.06 2.06-.94-2.06-.94L8.5 2.5l-.94 2.06-2.06.94zm10 10l.94 2.06.94-2.06 2.06-.94-2.06-.94-.94-2.06-.94 2.06-2.06.94z\"/><path d=\"M17.41 7.96l-1.37-1.37c-.4-.4-.92-.59-1.43-.59-.52 0-1.04.2-1.43.59L10.3 9.45l-7.72 7.72c-.78.78-.78 2.05 0 2.83L4 21.41c.39.39.9.59 1.41.59.51 0 1.02-.2 1.41-.59l7.78-7.78 2.81-2.81c.8-.78.8-2.07 0-2.86zM5.41 20L4 18.59l7.72-7.72 1.47 1.35L5.41 20z\"/>\n",
              "  </svg>\n",
              "      </button>\n",
              "      \n",
              "  <style>\n",
              "    .colab-df-container {\n",
              "      display:flex;\n",
              "      flex-wrap:wrap;\n",
              "      gap: 12px;\n",
              "    }\n",
              "\n",
              "    .colab-df-convert {\n",
              "      background-color: #E8F0FE;\n",
              "      border: none;\n",
              "      border-radius: 50%;\n",
              "      cursor: pointer;\n",
              "      display: none;\n",
              "      fill: #1967D2;\n",
              "      height: 32px;\n",
              "      padding: 0 0 0 0;\n",
              "      width: 32px;\n",
              "    }\n",
              "\n",
              "    .colab-df-convert:hover {\n",
              "      background-color: #E2EBFA;\n",
              "      box-shadow: 0px 1px 2px rgba(60, 64, 67, 0.3), 0px 1px 3px 1px rgba(60, 64, 67, 0.15);\n",
              "      fill: #174EA6;\n",
              "    }\n",
              "\n",
              "    [theme=dark] .colab-df-convert {\n",
              "      background-color: #3B4455;\n",
              "      fill: #D2E3FC;\n",
              "    }\n",
              "\n",
              "    [theme=dark] .colab-df-convert:hover {\n",
              "      background-color: #434B5C;\n",
              "      box-shadow: 0px 1px 3px 1px rgba(0, 0, 0, 0.15);\n",
              "      filter: drop-shadow(0px 1px 2px rgba(0, 0, 0, 0.3));\n",
              "      fill: #FFFFFF;\n",
              "    }\n",
              "  </style>\n",
              "\n",
              "      <script>\n",
              "        const buttonEl =\n",
              "          document.querySelector('#df-9a411daf-ff34-416f-97c1-5044f717aa0e button.colab-df-convert');\n",
              "        buttonEl.style.display =\n",
              "          google.colab.kernel.accessAllowed ? 'block' : 'none';\n",
              "\n",
              "        async function convertToInteractive(key) {\n",
              "          const element = document.querySelector('#df-9a411daf-ff34-416f-97c1-5044f717aa0e');\n",
              "          const dataTable =\n",
              "            await google.colab.kernel.invokeFunction('convertToInteractive',\n",
              "                                                     [key], {});\n",
              "          if (!dataTable) return;\n",
              "\n",
              "          const docLinkHtml = 'Like what you see? Visit the ' +\n",
              "            '<a target=\"_blank\" href=https://colab.research.google.com/notebooks/data_table.ipynb>data table notebook</a>'\n",
              "            + ' to learn more about interactive tables.';\n",
              "          element.innerHTML = '';\n",
              "          dataTable['output_type'] = 'display_data';\n",
              "          await google.colab.output.renderOutput(dataTable, element);\n",
              "          const docLink = document.createElement('div');\n",
              "          docLink.innerHTML = docLinkHtml;\n",
              "          element.appendChild(docLink);\n",
              "        }\n",
              "      </script>\n",
              "    </div>\n",
              "  </div>\n",
              "  "
            ]
          },
          "metadata": {},
          "execution_count": 137
        }
      ]
    },
    {
      "cell_type": "markdown",
      "source": [
        "*   Menghitung Jarak menggunakan metode Jaccard Similarity\n",
        "\n"
      ],
      "metadata": {
        "id": "bciGY0rjAwgh"
      }
    },
    {
      "cell_type": "markdown",
      "source": [
        "Metode Jaccard Distance dapat digunakan untuk menghitung jarak dissimilarity antara atribut nominal seperti hobby. Metode ini menghitung jumlah elemen yang sama di antara dua set dan membaginya dengan jumlah elemen yang berbeda di antara dua set.\n",
        "\n",
        "Rumus Jaccard Distance:\n",
        "J(A, B) = |A ∩ B| / |A ∪ B|\n",
        "\n",
        "dengan:\n",
        "\n",
        "A = himpunan elemen hobby responden pertama\n",
        "\n",
        "B = himpunan elemen hobby responden kedua"
      ],
      "metadata": {
        "id": "e_T39x_eVjHu"
      }
    },
    {
      "cell_type": "code",
      "source": [
        "# Membaca dataset dari file CSV\n",
        "df = df.head()\n",
        "\n",
        "# Mengambil kolom Nama dan Hobby dari semua responden\n",
        "respondents = df[\"Nama\"].tolist()\n",
        "hobbies = []\n",
        "for i in range(len(df)):\n",
        "    hobbies.append(set(df.loc[i, \"Hobby\"].split(\",\")))\n",
        "\n",
        "# Menghitung jarak dissimilarity menggunakan metode Jaccard Similarity\n",
        "distances = []\n",
        "for i in range(len(hobbies)):\n",
        "    row = []\n",
        "    for j in range(len(hobbies)):\n",
        "        if i == j:\n",
        "            row.append(0)\n",
        "        else:\n",
        "            jaccard_sim = len(hobbies[i].intersection(hobbies[j])) / len(hobbies[i].union(hobbies[j]))\n",
        "            dissimilarity = 1 - jaccard_sim\n",
        "            row.append(dissimilarity)\n",
        "    distances.append(row)\n",
        "\n",
        "# Menyimpan hasil ke dalam tabel dataFrame\n",
        "df_distances = pd.DataFrame(distances, index=respondents, columns=respondents)\n",
        "\n",
        "# Menampilkan tabel jarak dissimilarity\n",
        "print(df_distances)\n"
      ],
      "metadata": {
        "colab": {
          "base_uri": "https://localhost:8080/"
        },
        "id": "AbWlRQswWvCC",
        "outputId": "6711c786-6314-475b-8020-d75a9a7b764c"
      },
      "execution_count": 148,
      "outputs": [
        {
          "output_type": "stream",
          "name": "stdout",
          "text": [
            "      Andi  Budi  Cici  Didi  Eni\n",
            "Andi   0.0   1.0   0.0   1.0  1.0\n",
            "Budi   1.0   0.0   1.0   1.0  1.0\n",
            "Cici   0.0   1.0   0.0   1.0  1.0\n",
            "Didi   1.0   1.0   1.0   0.0  0.0\n",
            "Eni    1.0   1.0   1.0   0.0  0.0\n"
          ]
        }
      ]
    },
    {
      "cell_type": "markdown",
      "source": [
        "*   Menghitung Jarak menggunakan metode Hamming Distance\n",
        "\n"
      ],
      "metadata": {
        "id": "zXgGdpamA-bE"
      }
    },
    {
      "cell_type": "markdown",
      "source": [
        "Metode Hamming Distance dapat digunakan untuk menghitung jarak dissimilarity antara atribut binary seperti hobby. Metode ini menghitung jumlah elemen yang berbeda di antara dua set.\n",
        "\n",
        "Rumus Hamming Distance:\n",
        "d(A, B) = Σi=1n(Ai ≠ Bi)"
      ],
      "metadata": {
        "id": "VJZ0HRVMXrjE"
      }
    },
    {
      "cell_type": "code",
      "source": [
        "# Membaca dataset dari file CSV\n",
        "df = df.head()\n",
        "\n",
        "# Mengambil kolom Nama dan Hobby dari semua responden\n",
        "respondents = df[\"Nama\"].tolist()\n",
        "hobbies = []\n",
        "for i in range(len(df)):\n",
        "    hobbies.append(df.loc[i, \"Hobby\"].split(\",\"))\n",
        "\n",
        "# Menghitung jarak dissimilarity menggunakan metode Hamming Distance\n",
        "distances = []\n",
        "for i in range(len(hobbies)):\n",
        "    row = []\n",
        "    for j in range(len(hobbies)):\n",
        "        if i == j:\n",
        "            row.append(0)\n",
        "        else:\n",
        "            hamming_dist = sum(hobbies[i][k] != hobbies[j][k] for k in range(len(hobbies[i])))\n",
        "            row.append(hamming_dist)\n",
        "    distances.append(row)\n",
        "\n",
        "# Menyimpan hasil ke dalam tabel dataFrame\n",
        "df_distances = pd.DataFrame(distances, index=respondents, columns=respondents)\n",
        "\n",
        "# Menampilkan tabel jarak dissimilarity\n",
        "print(df_distances)"
      ],
      "metadata": {
        "colab": {
          "base_uri": "https://localhost:8080/"
        },
        "id": "OyIXK-E1XZiQ",
        "outputId": "bdc1eab2-ca7e-4ca7-f149-e9d134c14353"
      },
      "execution_count": 147,
      "outputs": [
        {
          "output_type": "stream",
          "name": "stdout",
          "text": [
            "      Andi  Budi  Cici  Didi  Eni\n",
            "Andi     0     1     0     1    1\n",
            "Budi     1     0     1     1    1\n",
            "Cici     0     1     0     1    1\n",
            "Didi     1     1     1     0    0\n",
            "Eni      1     1     1     0    0\n"
          ]
        }
      ]
    },
    {
      "cell_type": "markdown",
      "source": [
        "<h2>3. Menghitung Jarak Dissimilarity Atribut Binary (Biner)</h2>"
      ],
      "metadata": {
        "id": "E3ZcQ745X6_k"
      }
    },
    {
      "cell_type": "markdown",
      "source": [
        "Menghitung jarak menggunakan metode Hamming Distance"
      ],
      "metadata": {
        "id": "NWyzg-rsc0Z8"
      }
    },
    {
      "cell_type": "markdown",
      "source": [
        "*   Ambil Sampel pada Status\n"
      ],
      "metadata": {
        "id": "j7mgIr2XbBs0"
      }
    },
    {
      "cell_type": "code",
      "source": [
        "data_status = df[[\"Jenis Kelamin\", \"Status\"]]\n",
        "\n",
        "data_status"
      ],
      "metadata": {
        "colab": {
          "base_uri": "https://localhost:8080/",
          "height": 206
        },
        "id": "VguvAArha4em",
        "outputId": "0b3de439-6bcd-4b30-fa4d-5f461535db40"
      },
      "execution_count": 140,
      "outputs": [
        {
          "output_type": "execute_result",
          "data": {
            "text/plain": [
              "  Jenis Kelamin         Status\n",
              "0     Laki-laki        Menikah\n",
              "1     Laki-laki  Belum Menikah\n",
              "2     Perempuan        Menikah\n",
              "3     Laki-laki  Belum Menikah\n",
              "4     Perempuan        Menikah"
            ],
            "text/html": [
              "\n",
              "  <div id=\"df-48835279-fb84-4e6b-8f0f-8a004a89547e\">\n",
              "    <div class=\"colab-df-container\">\n",
              "      <div>\n",
              "<style scoped>\n",
              "    .dataframe tbody tr th:only-of-type {\n",
              "        vertical-align: middle;\n",
              "    }\n",
              "\n",
              "    .dataframe tbody tr th {\n",
              "        vertical-align: top;\n",
              "    }\n",
              "\n",
              "    .dataframe thead th {\n",
              "        text-align: right;\n",
              "    }\n",
              "</style>\n",
              "<table border=\"1\" class=\"dataframe\">\n",
              "  <thead>\n",
              "    <tr style=\"text-align: right;\">\n",
              "      <th></th>\n",
              "      <th>Jenis Kelamin</th>\n",
              "      <th>Status</th>\n",
              "    </tr>\n",
              "  </thead>\n",
              "  <tbody>\n",
              "    <tr>\n",
              "      <th>0</th>\n",
              "      <td>Laki-laki</td>\n",
              "      <td>Menikah</td>\n",
              "    </tr>\n",
              "    <tr>\n",
              "      <th>1</th>\n",
              "      <td>Laki-laki</td>\n",
              "      <td>Belum Menikah</td>\n",
              "    </tr>\n",
              "    <tr>\n",
              "      <th>2</th>\n",
              "      <td>Perempuan</td>\n",
              "      <td>Menikah</td>\n",
              "    </tr>\n",
              "    <tr>\n",
              "      <th>3</th>\n",
              "      <td>Laki-laki</td>\n",
              "      <td>Belum Menikah</td>\n",
              "    </tr>\n",
              "    <tr>\n",
              "      <th>4</th>\n",
              "      <td>Perempuan</td>\n",
              "      <td>Menikah</td>\n",
              "    </tr>\n",
              "  </tbody>\n",
              "</table>\n",
              "</div>\n",
              "      <button class=\"colab-df-convert\" onclick=\"convertToInteractive('df-48835279-fb84-4e6b-8f0f-8a004a89547e')\"\n",
              "              title=\"Convert this dataframe to an interactive table.\"\n",
              "              style=\"display:none;\">\n",
              "        \n",
              "  <svg xmlns=\"http://www.w3.org/2000/svg\" height=\"24px\"viewBox=\"0 0 24 24\"\n",
              "       width=\"24px\">\n",
              "    <path d=\"M0 0h24v24H0V0z\" fill=\"none\"/>\n",
              "    <path d=\"M18.56 5.44l.94 2.06.94-2.06 2.06-.94-2.06-.94-.94-2.06-.94 2.06-2.06.94zm-11 1L8.5 8.5l.94-2.06 2.06-.94-2.06-.94L8.5 2.5l-.94 2.06-2.06.94zm10 10l.94 2.06.94-2.06 2.06-.94-2.06-.94-.94-2.06-.94 2.06-2.06.94z\"/><path d=\"M17.41 7.96l-1.37-1.37c-.4-.4-.92-.59-1.43-.59-.52 0-1.04.2-1.43.59L10.3 9.45l-7.72 7.72c-.78.78-.78 2.05 0 2.83L4 21.41c.39.39.9.59 1.41.59.51 0 1.02-.2 1.41-.59l7.78-7.78 2.81-2.81c.8-.78.8-2.07 0-2.86zM5.41 20L4 18.59l7.72-7.72 1.47 1.35L5.41 20z\"/>\n",
              "  </svg>\n",
              "      </button>\n",
              "      \n",
              "  <style>\n",
              "    .colab-df-container {\n",
              "      display:flex;\n",
              "      flex-wrap:wrap;\n",
              "      gap: 12px;\n",
              "    }\n",
              "\n",
              "    .colab-df-convert {\n",
              "      background-color: #E8F0FE;\n",
              "      border: none;\n",
              "      border-radius: 50%;\n",
              "      cursor: pointer;\n",
              "      display: none;\n",
              "      fill: #1967D2;\n",
              "      height: 32px;\n",
              "      padding: 0 0 0 0;\n",
              "      width: 32px;\n",
              "    }\n",
              "\n",
              "    .colab-df-convert:hover {\n",
              "      background-color: #E2EBFA;\n",
              "      box-shadow: 0px 1px 2px rgba(60, 64, 67, 0.3), 0px 1px 3px 1px rgba(60, 64, 67, 0.15);\n",
              "      fill: #174EA6;\n",
              "    }\n",
              "\n",
              "    [theme=dark] .colab-df-convert {\n",
              "      background-color: #3B4455;\n",
              "      fill: #D2E3FC;\n",
              "    }\n",
              "\n",
              "    [theme=dark] .colab-df-convert:hover {\n",
              "      background-color: #434B5C;\n",
              "      box-shadow: 0px 1px 3px 1px rgba(0, 0, 0, 0.15);\n",
              "      filter: drop-shadow(0px 1px 2px rgba(0, 0, 0, 0.3));\n",
              "      fill: #FFFFFF;\n",
              "    }\n",
              "  </style>\n",
              "\n",
              "      <script>\n",
              "        const buttonEl =\n",
              "          document.querySelector('#df-48835279-fb84-4e6b-8f0f-8a004a89547e button.colab-df-convert');\n",
              "        buttonEl.style.display =\n",
              "          google.colab.kernel.accessAllowed ? 'block' : 'none';\n",
              "\n",
              "        async function convertToInteractive(key) {\n",
              "          const element = document.querySelector('#df-48835279-fb84-4e6b-8f0f-8a004a89547e');\n",
              "          const dataTable =\n",
              "            await google.colab.kernel.invokeFunction('convertToInteractive',\n",
              "                                                     [key], {});\n",
              "          if (!dataTable) return;\n",
              "\n",
              "          const docLinkHtml = 'Like what you see? Visit the ' +\n",
              "            '<a target=\"_blank\" href=https://colab.research.google.com/notebooks/data_table.ipynb>data table notebook</a>'\n",
              "            + ' to learn more about interactive tables.';\n",
              "          element.innerHTML = '';\n",
              "          dataTable['output_type'] = 'display_data';\n",
              "          await google.colab.output.renderOutput(dataTable, element);\n",
              "          const docLink = document.createElement('div');\n",
              "          docLink.innerHTML = docLinkHtml;\n",
              "          element.appendChild(docLink);\n",
              "        }\n",
              "      </script>\n",
              "    </div>\n",
              "  </div>\n",
              "  "
            ]
          },
          "metadata": {},
          "execution_count": 140
        }
      ]
    },
    {
      "cell_type": "markdown",
      "source": [
        "Hamming distance = jumlah posisi di mana nilai atribut binary berbeda antara kedua data\n",
        "\n",
        "\n",
        "Jadi, Hamming distance merupakan jumlah posisi di mana nilai atribut binary pada kedua data berbeda. Semakin besar nilai Hamming distance, semakin besar pula jarak dissimilarity antara kedua data tersebut."
      ],
      "metadata": {
        "id": "_YTMZHHjdkjv"
      }
    },
    {
      "cell_type": "code",
      "source": [
        "# Load data\n",
        "df = df.head()\n",
        "\n",
        "# Define binary attributes\n",
        "binary_attrs = [\"Jenis Kelamin\", \"Status\"]\n",
        "\n",
        "# Define function to calculate Hamming distance\n",
        "def hamming_distance(x, y):\n",
        "    dist = 0\n",
        "    for attr in binary_attrs:\n",
        "        if x[attr] != y[attr]:\n",
        "            dist += 1\n",
        "    return dist\n",
        "\n",
        "# Calculate dissimilarity matrix using Hamming distance\n",
        "n = len(df)\n",
        "dissimilarity = [[0] * n for i in range(n)]\n",
        "for i in range(n):\n",
        "    for j in range(i+1, n):\n",
        "        dist = hamming_distance(df.iloc[i], df.iloc[j])\n",
        "        dissimilarity[i][j] = dist\n",
        "        dissimilarity[j][i] = dist\n",
        "\n",
        "# Create DataFrame for dissimilarity matrix\n",
        "cols = df[\"Nama\"].tolist()\n",
        "dissimilarity_df = pd.DataFrame(dissimilarity, columns=cols, index=cols)\n",
        "\n",
        "# Print dissimilarity DataFrame\n",
        "print(dissimilarity_df)"
      ],
      "metadata": {
        "colab": {
          "base_uri": "https://localhost:8080/"
        },
        "id": "UAhrQSo_ePU9",
        "outputId": "c6e609f8-4b24-49c2-8f4c-300c06d4a4af"
      },
      "execution_count": 146,
      "outputs": [
        {
          "output_type": "stream",
          "name": "stdout",
          "text": [
            "      Andi  Budi  Cici  Didi  Eni\n",
            "Andi     0     1     1     1    1\n",
            "Budi     1     0     2     0    2\n",
            "Cici     1     2     0     2    0\n",
            "Didi     1     0     2     0    2\n",
            "Eni      1     2     0     2    0\n"
          ]
        }
      ]
    },
    {
      "cell_type": "markdown",
      "source": [
        "<h2>4. Menghitung Jarak Dissimilarity Atribut Ordinal</h2>"
      ],
      "metadata": {
        "id": "mDH9DuBKnyYn"
      }
    },
    {
      "cell_type": "markdown",
      "source": [
        "Menghitung jarak menggunakan metode Ordinal Distance"
      ],
      "metadata": {
        "id": "Yh3HA2Unn3WK"
      }
    },
    {
      "cell_type": "markdown",
      "source": [
        "*   Ambil Sampel pada Pendidikan"
      ],
      "metadata": {
        "id": "q6Nkywf2n92N"
      }
    },
    {
      "cell_type": "code",
      "source": [
        "data_pendidikan = df[[\"Pendidikan\"]]\n",
        "\n",
        "data_pendidikan"
      ],
      "metadata": {
        "colab": {
          "base_uri": "https://localhost:8080/",
          "height": 206
        },
        "id": "X-sPmtkboBCi",
        "outputId": "8bdf53c9-ae99-4b00-8ccd-71b7355c23d4"
      },
      "execution_count": 143,
      "outputs": [
        {
          "output_type": "execute_result",
          "data": {
            "text/plain": [
              "  Pendidikan\n",
              "0    Sarjana\n",
              "1        SMA\n",
              "2         D3\n",
              "3   Magister\n",
              "4    Sarjana"
            ],
            "text/html": [
              "\n",
              "  <div id=\"df-a4951042-3b2d-4dce-ae8c-b3b37292ebae\">\n",
              "    <div class=\"colab-df-container\">\n",
              "      <div>\n",
              "<style scoped>\n",
              "    .dataframe tbody tr th:only-of-type {\n",
              "        vertical-align: middle;\n",
              "    }\n",
              "\n",
              "    .dataframe tbody tr th {\n",
              "        vertical-align: top;\n",
              "    }\n",
              "\n",
              "    .dataframe thead th {\n",
              "        text-align: right;\n",
              "    }\n",
              "</style>\n",
              "<table border=\"1\" class=\"dataframe\">\n",
              "  <thead>\n",
              "    <tr style=\"text-align: right;\">\n",
              "      <th></th>\n",
              "      <th>Pendidikan</th>\n",
              "    </tr>\n",
              "  </thead>\n",
              "  <tbody>\n",
              "    <tr>\n",
              "      <th>0</th>\n",
              "      <td>Sarjana</td>\n",
              "    </tr>\n",
              "    <tr>\n",
              "      <th>1</th>\n",
              "      <td>SMA</td>\n",
              "    </tr>\n",
              "    <tr>\n",
              "      <th>2</th>\n",
              "      <td>D3</td>\n",
              "    </tr>\n",
              "    <tr>\n",
              "      <th>3</th>\n",
              "      <td>Magister</td>\n",
              "    </tr>\n",
              "    <tr>\n",
              "      <th>4</th>\n",
              "      <td>Sarjana</td>\n",
              "    </tr>\n",
              "  </tbody>\n",
              "</table>\n",
              "</div>\n",
              "      <button class=\"colab-df-convert\" onclick=\"convertToInteractive('df-a4951042-3b2d-4dce-ae8c-b3b37292ebae')\"\n",
              "              title=\"Convert this dataframe to an interactive table.\"\n",
              "              style=\"display:none;\">\n",
              "        \n",
              "  <svg xmlns=\"http://www.w3.org/2000/svg\" height=\"24px\"viewBox=\"0 0 24 24\"\n",
              "       width=\"24px\">\n",
              "    <path d=\"M0 0h24v24H0V0z\" fill=\"none\"/>\n",
              "    <path d=\"M18.56 5.44l.94 2.06.94-2.06 2.06-.94-2.06-.94-.94-2.06-.94 2.06-2.06.94zm-11 1L8.5 8.5l.94-2.06 2.06-.94-2.06-.94L8.5 2.5l-.94 2.06-2.06.94zm10 10l.94 2.06.94-2.06 2.06-.94-2.06-.94-.94-2.06-.94 2.06-2.06.94z\"/><path d=\"M17.41 7.96l-1.37-1.37c-.4-.4-.92-.59-1.43-.59-.52 0-1.04.2-1.43.59L10.3 9.45l-7.72 7.72c-.78.78-.78 2.05 0 2.83L4 21.41c.39.39.9.59 1.41.59.51 0 1.02-.2 1.41-.59l7.78-7.78 2.81-2.81c.8-.78.8-2.07 0-2.86zM5.41 20L4 18.59l7.72-7.72 1.47 1.35L5.41 20z\"/>\n",
              "  </svg>\n",
              "      </button>\n",
              "      \n",
              "  <style>\n",
              "    .colab-df-container {\n",
              "      display:flex;\n",
              "      flex-wrap:wrap;\n",
              "      gap: 12px;\n",
              "    }\n",
              "\n",
              "    .colab-df-convert {\n",
              "      background-color: #E8F0FE;\n",
              "      border: none;\n",
              "      border-radius: 50%;\n",
              "      cursor: pointer;\n",
              "      display: none;\n",
              "      fill: #1967D2;\n",
              "      height: 32px;\n",
              "      padding: 0 0 0 0;\n",
              "      width: 32px;\n",
              "    }\n",
              "\n",
              "    .colab-df-convert:hover {\n",
              "      background-color: #E2EBFA;\n",
              "      box-shadow: 0px 1px 2px rgba(60, 64, 67, 0.3), 0px 1px 3px 1px rgba(60, 64, 67, 0.15);\n",
              "      fill: #174EA6;\n",
              "    }\n",
              "\n",
              "    [theme=dark] .colab-df-convert {\n",
              "      background-color: #3B4455;\n",
              "      fill: #D2E3FC;\n",
              "    }\n",
              "\n",
              "    [theme=dark] .colab-df-convert:hover {\n",
              "      background-color: #434B5C;\n",
              "      box-shadow: 0px 1px 3px 1px rgba(0, 0, 0, 0.15);\n",
              "      filter: drop-shadow(0px 1px 2px rgba(0, 0, 0, 0.3));\n",
              "      fill: #FFFFFF;\n",
              "    }\n",
              "  </style>\n",
              "\n",
              "      <script>\n",
              "        const buttonEl =\n",
              "          document.querySelector('#df-a4951042-3b2d-4dce-ae8c-b3b37292ebae button.colab-df-convert');\n",
              "        buttonEl.style.display =\n",
              "          google.colab.kernel.accessAllowed ? 'block' : 'none';\n",
              "\n",
              "        async function convertToInteractive(key) {\n",
              "          const element = document.querySelector('#df-a4951042-3b2d-4dce-ae8c-b3b37292ebae');\n",
              "          const dataTable =\n",
              "            await google.colab.kernel.invokeFunction('convertToInteractive',\n",
              "                                                     [key], {});\n",
              "          if (!dataTable) return;\n",
              "\n",
              "          const docLinkHtml = 'Like what you see? Visit the ' +\n",
              "            '<a target=\"_blank\" href=https://colab.research.google.com/notebooks/data_table.ipynb>data table notebook</a>'\n",
              "            + ' to learn more about interactive tables.';\n",
              "          element.innerHTML = '';\n",
              "          dataTable['output_type'] = 'display_data';\n",
              "          await google.colab.output.renderOutput(dataTable, element);\n",
              "          const docLink = document.createElement('div');\n",
              "          docLink.innerHTML = docLinkHtml;\n",
              "          element.appendChild(docLink);\n",
              "        }\n",
              "      </script>\n",
              "    </div>\n",
              "  </div>\n",
              "  "
            ]
          },
          "metadata": {},
          "execution_count": 143
        }
      ]
    },
    {
      "cell_type": "markdown",
      "source": [
        "Metode Ordinal Distance adalah metode yang digunakan untuk mengukur jarak dissimilarity antara dua data ordinal. Dalam hal ini, data ordinal yang digunakan adalah pendidikan reponden dengan ranking seperti: SD, SMP, SMA, D1, D2, D3, S1, S2, S3.\n",
        "\n",
        "Rumus yang digunakan dalam metode ini adalah:\n",
        "\n",
        "$ d_{ij} = |r_i - r_j| $\n",
        "\n",
        "dengan:\n",
        "\n",
        "* $d_{ij}$ adalah jarak dissimilarity antara data ke-$i$ dan ke-$j$,\n",
        "* $r_i$ dan $r_j$ adalah ranking dari data ke-$i$ dan ke-$j$."
      ],
      "metadata": {
        "id": "tjo4vIyeL7Nv"
      }
    },
    {
      "cell_type": "code",
      "source": [
        "# Load dataset from Tabel\n",
        "df = df.head()\n",
        "\n",
        "# Define the ranking of education level\n",
        "ranking = {'SD': 0, 'SMP': 1, 'SMA': 2, 'D1': 3, 'D2': 4, 'D3': 5, 'S1': 6, 'S2': 7, 'S3': 8}\n",
        "\n",
        "# Define a function to compute Ordinal Distance\n",
        "def ordinal_distance(x, y):\n",
        "    return abs(ranking[x] - ranking[y])\n",
        "\n",
        "# Calculate dissimilarity matrix using Ordinal Distance\n",
        "dissimilarity_matrix = np.zeros((len(ranking), len(ranking)))\n",
        "for i, edu1 in enumerate(ranking.keys()):\n",
        "    for j, edu2 in enumerate(ranking.keys()):\n",
        "        dissimilarity_matrix[i][j] = ordinal_distance(edu1, edu2)\n",
        "\n",
        "# Convert dissimilarity matrix to data frame and set the row and column labels\n",
        "df_dissimilarity = pd.DataFrame(dissimilarity_matrix, columns=ranking.keys(), index=ranking.keys())\n",
        "\n",
        "# Print the result\n",
        "print(df_dissimilarity)"
      ],
      "metadata": {
        "colab": {
          "base_uri": "https://localhost:8080/"
        },
        "id": "8uI8pKPMKMym",
        "outputId": "c6a0ad3a-3a23-461e-b599-44381462fc6c"
      },
      "execution_count": 151,
      "outputs": [
        {
          "output_type": "stream",
          "name": "stdout",
          "text": [
            "      SD  SMP  SMA   D1   D2   D3   S1   S2   S3\n",
            "SD   0.0  1.0  2.0  3.0  4.0  5.0  6.0  7.0  8.0\n",
            "SMP  1.0  0.0  1.0  2.0  3.0  4.0  5.0  6.0  7.0\n",
            "SMA  2.0  1.0  0.0  1.0  2.0  3.0  4.0  5.0  6.0\n",
            "D1   3.0  2.0  1.0  0.0  1.0  2.0  3.0  4.0  5.0\n",
            "D2   4.0  3.0  2.0  1.0  0.0  1.0  2.0  3.0  4.0\n",
            "D3   5.0  4.0  3.0  2.0  1.0  0.0  1.0  2.0  3.0\n",
            "S1   6.0  5.0  4.0  3.0  2.0  1.0  0.0  1.0  2.0\n",
            "S2   7.0  6.0  5.0  4.0  3.0  2.0  1.0  0.0  1.0\n",
            "S3   8.0  7.0  6.0  5.0  4.0  3.0  2.0  1.0  0.0\n"
          ]
        }
      ]
    },
    {
      "cell_type": "markdown",
      "source": [
        "Dalam program di atas, didefinisikan sebuah dictionary ranking yang memuat ranking pendidikan dari yang paling rendah (SD) hingga yang tertinggi (S3). Lalu, didefinisikan sebuah fungsi ordinal_distance yang menghitung jarak dissimilarity antara dua data ordinal menggunakan rumus di atas.\n",
        "\n",
        "Kemudian, dilakukan perulangan untuk mengisi matriks dissimilarity_matrix dengan nilai jarak dissimilarity antara masing-masing pendidikan reponden menggunakan fungsi ordinal_distance. Matriks ini kemudian diubah menjadi data frame df_dissimilarity dengan menggunakan pd.DataFrame dan diberi label pada baris dan kolom menggunakan columns dan index.\n",
        "\n",
        "Dengan demikian, output dari program ini adalah sebuah tabel dataFrame yang menunjukkan jarak dissimilarity antara masing-masing pendidikan reponden pada dataset menggunakan metode Ordinal Distance."
      ],
      "metadata": {
        "id": "rVdYVNKYL_pm"
      }
    }
  ]
}